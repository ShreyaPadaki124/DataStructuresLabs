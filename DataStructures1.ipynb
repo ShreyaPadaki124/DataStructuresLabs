{
  "nbformat": 4,
  "nbformat_minor": 0,
  "metadata": {
    "colab": {
      "provenance": []
    },
    "kernelspec": {
      "name": "python3",
      "display_name": "Python 3"
    },
    "language_info": {
      "name": "python"
    }
  },
  "cells": [
    {
      "cell_type": "code",
      "execution_count": null,
      "metadata": {
        "colab": {
          "base_uri": "https://localhost:8080/"
        },
        "id": "NI5wTTQkUysA",
        "outputId": "162ea08c-6617-430f-9996-a6ef9662336b"
      },
      "outputs": [
        {
          "output_type": "stream",
          "name": "stdout",
          "text": [
            "10 -->20 -->30 -->40 -->"
          ]
        }
      ],
      "source": [
        "#Lab1:Singly Linked List\n",
        "class Node:\n",
        "  def __init__(self,data):\n",
        "    self.data=data\n",
        "    self.ref=None\n",
        "node1=Node(10)\n",
        "class LinkedList:\n",
        "  def __init__(self):\n",
        "    self.head=None\n",
        "  def printLL(self):\n",
        "    if self.head is None:\n",
        "      print(\"Linked List is empty\")\n",
        "    else:\n",
        "      h=self.head\n",
        "      while h is not None:\n",
        "        print(h.data, \"-->\", end=\"\")\n",
        "        h=h.ref\n",
        "  def add_beginning(self, data):\n",
        "    new_node=Node(data)\n",
        "    new_node.ref=self.head\n",
        "    self.head=new_node\n",
        "  def add_end(self, data):\n",
        "    new_node=Node(data)\n",
        "    if self.head is None:\n",
        "      self.head=new_node\n",
        "    else:\n",
        "      n=self.head\n",
        "      while n.ref is not None:\n",
        "        n=n.ref\n",
        "      n.ref=new_node\n",
        "  def add_after(self, data, x):\n",
        "    n=self.head\n",
        "    while n is not None:\n",
        "      if x==n.data:\n",
        "        break\n",
        "      n=n.ref\n",
        "    if n is None:\n",
        "      print(\"Node is not present in the given Linked List\")\n",
        "    else:\n",
        "      new_node=Node(data)\n",
        "      new_node.ref=n.ref\n",
        "      n.ref=new_node\n",
        "  def del_beginning(self):\n",
        "    if self.head is None:\n",
        "      print(\"Cannot perform deletion on empty Linked List\")\n",
        "    else:\n",
        "      self.head=self.head.ref\n",
        "  def del_end(self):\n",
        "    if self.head is None:\n",
        "      print(\"Cannot perform deletion on empty Linked List\")\n",
        "    else:\n",
        "      n=self.head\n",
        "      while n.ref.ref is not None:\n",
        "        n=n.ref\n",
        "      n.ref=None\n",
        "  def del_after(self,x):\n",
        "    if self.head is None:\n",
        "      print(\"Cannot perform deletion on empty Linked List\")\n",
        "    else:\n",
        "      n=self.head\n",
        "      while n is not None:\n",
        "        if x==n.data:\n",
        "          break\n",
        "        n=n.ref\n",
        "\n",
        "\n",
        "LL=LinkedList()\n",
        "LL.add_beginning(20)\n",
        "LL.add_beginning(10)\n",
        "LL.add_end(40)\n",
        "LL.add_end(45)\n",
        "LL.add_after(30, 20)\n",
        "LL.add_beginning(5)\n",
        "LL.del_beginning()\n",
        "LL.del_end()\n",
        "LL.del_after(20)\n",
        "LL.printLL()"
      ]
    }
  ]
}