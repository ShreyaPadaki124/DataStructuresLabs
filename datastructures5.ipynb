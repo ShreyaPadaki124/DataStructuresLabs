{
  "nbformat": 4,
  "nbformat_minor": 0,
  "metadata": {
    "colab": {
      "provenance": []
    },
    "kernelspec": {
      "name": "python3",
      "display_name": "Python 3"
    },
    "language_info": {
      "name": "python"
    }
  },
  "cells": [
    {
      "cell_type": "code",
      "execution_count": null,
      "metadata": {
        "colab": {
          "base_uri": "https://localhost:8080/"
        },
        "id": "xT71F99hiSRd",
        "outputId": "323f09fb-9efa-4084-ae34-efaf724b4e6f"
      },
      "outputs": [
        {
          "output_type": "stream",
          "name": "stdout",
          "text": [
            "Postfix Expression is:  1020*5+\n",
            "Result is:  5.0\n"
          ]
        }
      ],
      "source": [
        "#Lab5:Infix to Postfix\n",
        "def is_operand(char):\n",
        "  return char.isalnum()\n",
        "def evaluate_postfix(postfix_expression):\n",
        "  stack=[]\n",
        "  for char in postfix_expression:\n",
        "    if is_operand(char):\n",
        "      stack.append(float(char))\n",
        "    else:\n",
        "      operand2=stack.pop()\n",
        "      operand1=stack.pop()\n",
        "      if char=='+':\n",
        "        result=operand1+operand2\n",
        "      elif char=='-':\n",
        "        result=operand1-operand2\n",
        "      elif char=='*':\n",
        "        result=operand1*operand2\n",
        "      elif char=='/':\n",
        "        result=operand1/operand2\n",
        "      stack.append(result)\n",
        "  return stack.pop()\n",
        "postfix_expression='1020*5+'\n",
        "result=evaluate_postfix(postfix_expression)\n",
        "print(\"Postfix Expression is: \", postfix_expression)\n",
        "print(\"Result is: \", result)"
      ]
    },
    {
      "cell_type": "code",
      "source": [
        "#Postfix Evaluation\n",
        "def precedence(a):\n",
        "  if a==\"+\" or a==\"-\":\n",
        "    return 1\n",
        "  if a==\"*\" or a==\"/\":\n",
        "    return 2\n",
        "a=list(input(\"Enter the infix notation separated by a space: \").split(\" \"))\n",
        "postfix=\"\"\n",
        "opstack=[]\n",
        "for i in a:\n",
        "  if i in [\"+\", \"-\", \"*\", \"/\"]:\n",
        "    if((len(opstack)==0) or precedence(i)>precedence(opstack[-1])):\n",
        "      opstack.append(i)\n",
        "    else:\n",
        "      postfix+=opstack.pop()\n",
        "      opstack.append(i)\n",
        "  elif i==\" \":\n",
        "    continue\n",
        "  else:\n",
        "    postfix+=i\n",
        "while(len(opstack)!=0):\n",
        "  postfix+=opstack.pop()\n",
        "print(\"Postfix notation: \", postfix)"
      ],
      "metadata": {
        "colab": {
          "base_uri": "https://localhost:8080/"
        },
        "id": "cABt--Dqkr94",
        "outputId": "5c18fc77-f2ce-4d2e-97d1-304fd266c160"
      },
      "execution_count": null,
      "outputs": [
        {
          "output_type": "stream",
          "name": "stdout",
          "text": [
            "Enter the infix notation separated by a space: 9 + 5 - 1 / 2\n",
            "Postfix notation:  95+12/-\n"
          ]
        }
      ]
    }
  ]
}